{
  "nbformat": 4,
  "nbformat_minor": 0,
  "metadata": {
    "colab": {
      "provenance": [],
      "authorship_tag": "ABX9TyNLJbN/AQBbAyJOx961ktdD",
      "include_colab_link": true
    },
    "kernelspec": {
      "name": "python3",
      "display_name": "Python 3"
    },
    "language_info": {
      "name": "python"
    }
  },
  "cells": [
    {
      "cell_type": "markdown",
      "metadata": {
        "id": "view-in-github",
        "colab_type": "text"
      },
      "source": [
        "<a href=\"https://colab.research.google.com/github/gustavoriz/HomePonto/blob/main/Untitled14.ipynb\" target=\"_parent\"><img src=\"https://colab.research.google.com/assets/colab-badge.svg\" alt=\"Open In Colab\"/></a>"
      ]
    },
    {
      "cell_type": "code",
      "source": [
        "import re\n",
        "\n",
        "def generate_sql(query):\n",
        "    # Alguns exemplos de templase +++ tenho que incluir outros e fazer as condicionais ainda\n",
        "    table_pattern = re.compile(r'tabela[s]* ([A-Z]+)', re.IGNORECASE)\n",
        "    columns_pattern = re.compile(r'traga as colunas (.*?) da tabela', re.IGNORECASE)\n",
        "    column_table_pattern = re.compile(r'coluna[s]* (.*?) da tabela ([A-Z]+)', re.IGNORECASE)\n",
        "    join_pattern = re.compile(r'cruze a tabela ([A-Z]+) com a tabela ([A-Z]+) pelo campo (.*?)\\.', re.IGNORECASE)\n",
        "    condition_pattern = re.compile(r'verifique se a coluna (.*?) é maior que (.*?)$', re.IGNORECASE)\n",
        "\n",
        "    # Extracting tables\n",
        "    tables = table_pattern.findall(query)\n",
        "\n",
        "    # Extracting columns to be selected\n",
        "    columns = columns_pattern.findall(query)\n",
        "\n",
        "    # Extracting specific columns and their tables\n",
        "    column_table_matches = column_table_pattern.findall(query)\n",
        "\n",
        "    # Extracting join information\n",
        "    join_match = join_pattern.search(query)\n",
        "\n",
        "    # Extracting condition\n",
        "    condition_match = condition_pattern.search(query)\n",
        "\n",
        "    if tables and columns and column_table_matches and join_match and condition_match:\n",
        "        table1, table2 = join_match.group(1), join_match.group(2)\n",
        "        join_condition = join_match.group(3)\n",
        "        condition_column, condition_value = condition_match.group(1), condition_match.group(2)\n",
        "\n",
        "        columns_table1 = columns[0].split(', ')\n",
        "        columns_table2 = [match[0] for match in column_table_matches if match[1].upper() == table2.upper()]\n",
        "\n",
        "        # Constructing the SQL query\n",
        "        sql_query = f\"SELECT {', '.join(['A.' + col.strip() for col in columns_table1])}, {', '.join(['B.' + col.strip() for col in columns_table2])}\\n\"\n",
        "        sql_query += f\"FROM {table1} AS A\\n\"\n",
        "        sql_query += f\"INNER JOIN {table2} AS B\\n\"\n",
        "        sql_query += f\"ON A.{join_condition} = B.{join_condition}\\n\"\n",
        "        sql_query += f\"WHERE B.{condition_column.strip()} > {condition_value.strip()};\"\n",
        "\n",
        "        return sql_query\n",
        "    else:\n",
        "        return \"Query format not recognized.\"\n",
        "\n",
        "# Exemplo de uso\n",
        "query = \"\"\"traga as colunas NOME, SOBRENOME, TELEFONE, EMAIL, RG, ENDERECO da tabela CLIENTES e\n",
        "      coluna CONTRATO da tabela CONTRATOS. Cruze a tabela CLIENTES com a tabela CONTRATOS pelo campo CPF.\n",
        "      Verifique se a coluna CONTRATO é maior que 2000\"\"\"\n",
        "sql = generate_sql(query)\n",
        "print(sql)"
      ],
      "metadata": {
        "colab": {
          "base_uri": "https://localhost:8080/"
        },
        "id": "kPJjXqfzMmU7",
        "outputId": "65e7e6a0-955c-4833-d335-684dba521115"
      },
      "execution_count": null,
      "outputs": [
        {
          "output_type": "stream",
          "name": "stdout",
          "text": [
            "SELECT A.NOME, A.SOBRENOME, A.TELEFONE, A.EMAIL, A.RG, A.ENDERECO, B.CONTRATO\n",
            "FROM CLIENTES AS A\n",
            "INNER JOIN CONTRATOS AS B\n",
            "ON A.CPF = B.CPF\n",
            "WHERE B.CONTRATO > 2000;\n"
          ]
        }
      ]
    }
  ]
}